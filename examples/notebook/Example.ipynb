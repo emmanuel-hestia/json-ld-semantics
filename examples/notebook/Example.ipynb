{
 "cells": [
  {
   "cell_type": "markdown",
   "id": "0d7e1dfa",
   "metadata": {},
   "source": [
    "## Introduction"
   ]
  },
  {
   "cell_type": "markdown",
   "id": "1a977ab6",
   "metadata": {},
   "source": [
    "### Imports"
   ]
  },
  {
   "cell_type": "code",
   "execution_count": 1,
   "id": "523c5799",
   "metadata": {},
   "outputs": [],
   "source": [
    "%load_ext autoreload\n",
    "%autoreload 2"
   ]
  },
  {
   "cell_type": "code",
   "execution_count": 2,
   "id": "e688d8f0",
   "metadata": {},
   "outputs": [],
   "source": [
    "import json\n",
    "from pprint import pprint"
   ]
  },
  {
   "cell_type": "markdown",
   "id": "c19ffacb",
   "metadata": {},
   "source": [
    "## Data exploration - Tree"
   ]
  },
  {
   "cell_type": "markdown",
   "id": "80b1631e",
   "metadata": {},
   "source": [
    "### First, we load the raw JSON data"
   ]
  },
  {
   "cell_type": "code",
   "execution_count": 3,
   "id": "2cdcdc30",
   "metadata": {},
   "outputs": [
    {
     "name": "stdout",
     "output_type": "stream",
     "text": [
      "{'timelineObjects': [{'placeVisit': {'location': {'latitudeE7': 465196535, 'longitudeE7': 66322734, 'placeId': 'ChIJ5aeJzT4pjEcRXu7iysk_F-s', 'address': 'Lausanne\\nSuisse', 'name': 'Lausanne', 'locationConfidence': 100.0, 'calibratedProbability': 100.0}, 'duration': {'startTimestamp': '2022-03-07T13:08:43.398Z', 'endTimestamp': '2022-03-07T17:13:38.828Z'}, 'placeConfidence': 'USER_CONFIRMED', 'visitConfidence': 100, 'otherCandidateLocations': [{'latitudeE7': 465177565, 'longitudeE7': 66284570, 'placeId': 'C...\n"
     ]
    }
   ],
   "source": [
    "filename = \"../inputs/2022_MARCH.json\"\n",
    "\n",
    "with open(filename, \"r\") as jsonfile:\n",
    "    json_data = json.loads(jsonfile.read())\n",
    "    \n",
    "print(str(json_data)[:512] + \"...\")"
   ]
  },
  {
   "cell_type": "markdown",
   "id": "2e6bdf93",
   "metadata": {},
   "source": [
    "### Then, we create a tree with the data"
   ]
  },
  {
   "cell_type": "code",
   "execution_count": 4,
   "id": "f55818b0",
   "metadata": {},
   "outputs": [],
   "source": [
    "from json_ld_semantics.semantics import Tree\n",
    "tree = Tree(json_data)"
   ]
  },
  {
   "cell_type": "markdown",
   "id": "f35cc836",
   "metadata": {},
   "source": [
    "### We can explore whatever is inside"
   ]
  },
  {
   "cell_type": "code",
   "execution_count": 5,
   "id": "3d647991",
   "metadata": {},
   "outputs": [
    {
     "data": {
      "text/plain": [
       "Tree '$' with 1 children and with 149 paths\n",
       "- fieldName: $\n",
       "- data: Length of 290595\n",
       "- foundType: Root\n",
       "- descriptiveType: None\n",
       "- unique: None\n",
       "- default: None\n",
       "- description: None\n",
       "- example: None\n",
       "- regex: None\n",
       "- parent: None\n",
       "- path: $"
      ]
     },
     "execution_count": 5,
     "metadata": {},
     "output_type": "execute_result"
    }
   ],
   "source": [
    "tree"
   ]
  },
  {
   "cell_type": "code",
   "execution_count": 6,
   "id": "4e5b0d29",
   "metadata": {},
   "outputs": [
    {
     "data": {
      "text/plain": [
       "NodeDict 'timelineObjects' with 77 childrens and with 148 paths\n",
       "- fieldName: timelineObjects\n",
       "- data: Length of 290574\n",
       "- foundType: list\n",
       "- descriptiveType: None\n",
       "- unique: None\n",
       "- default: None\n",
       "- description: None\n",
       "- example: None\n",
       "- regex: None\n",
       "- parent: $\n",
       "- path: $.timelineObjects"
      ]
     },
     "execution_count": 6,
     "metadata": {},
     "output_type": "execute_result"
    }
   ],
   "source": [
    "tree.children[0]"
   ]
  },
  {
   "cell_type": "code",
   "execution_count": 7,
   "id": "1227aad7",
   "metadata": {
    "scrolled": true
   },
   "outputs": [
    {
     "name": "stdout",
     "output_type": "stream",
     "text": [
      "149\n"
     ]
    },
    {
     "data": {
      "text/plain": [
       "{'$',\n",
       " '$.timelineObjects',\n",
       " '$.timelineObjects[*]',\n",
       " '$.timelineObjects[*].activitySegment',\n",
       " '$.timelineObjects[*].activitySegment.activities',\n",
       " '$.timelineObjects[*].activitySegment.activities[*]',\n",
       " '$.timelineObjects[*].activitySegment.activities[*].activityType',\n",
       " '$.timelineObjects[*].activitySegment.activities[*].probability',\n",
       " '$.timelineObjects[*].activitySegment.activityType',\n",
       " '$.timelineObjects[*].activitySegment.confidence',\n",
       " '$.timelineObjects[*].activitySegment.distance',\n",
       " '$.timelineObjects[*].activitySegment.duration',\n",
       " '$.timelineObjects[*].activitySegment.duration.endTimestamp',\n",
       " '$.timelineObjects[*].activitySegment.duration.startTimestamp',\n",
       " '$.timelineObjects[*].activitySegment.editActionMetadata',\n",
       " '$.timelineObjects[*].activitySegment.editActionMetadata.activitySegment',\n",
       " '$.timelineObjects[*].activitySegment.editActionMetadata.activitySegment.activityConfidence',\n",
       " '$.timelineObjects[*].activitySegment.editActionMetadata.activitySegment.activityType',\n",
       " '$.timelineObjects[*].activitySegment.editActionMetadata.editHistory',\n",
       " '$.timelineObjects[*].activitySegment.editActionMetadata.editHistory.editEvent',\n",
       " '$.timelineObjects[*].activitySegment.editActionMetadata.editHistory.editEvent[*]',\n",
       " '$.timelineObjects[*].activitySegment.editActionMetadata.editHistory.editEvent[*].editOperation',\n",
       " '$.timelineObjects[*].activitySegment.editActionMetadata.editHistory.editEvent[*].editOperation[*]',\n",
       " '$.timelineObjects[*].activitySegment.editActionMetadata.editHistory.editEvent[*].uiConfiguration',\n",
       " '$.timelineObjects[*].activitySegment.editConfirmationStatus',\n",
       " '$.timelineObjects[*].activitySegment.endLocation',\n",
       " '$.timelineObjects[*].activitySegment.endLocation.latitudeE7',\n",
       " '$.timelineObjects[*].activitySegment.endLocation.longitudeE7',\n",
       " '$.timelineObjects[*].activitySegment.endLocation.sourceInfo',\n",
       " '$.timelineObjects[*].activitySegment.endLocation.sourceInfo.deviceTag',\n",
       " '$.timelineObjects[*].activitySegment.lastEditedTimestamp',\n",
       " '$.timelineObjects[*].activitySegment.parkingEvent',\n",
       " '$.timelineObjects[*].activitySegment.parkingEvent.location',\n",
       " '$.timelineObjects[*].activitySegment.parkingEvent.location.accuracyMetres',\n",
       " '$.timelineObjects[*].activitySegment.parkingEvent.location.latitudeE7',\n",
       " '$.timelineObjects[*].activitySegment.parkingEvent.location.longitudeE7',\n",
       " '$.timelineObjects[*].activitySegment.parkingEvent.locationSource',\n",
       " '$.timelineObjects[*].activitySegment.parkingEvent.method',\n",
       " '$.timelineObjects[*].activitySegment.parkingEvent.timestamp',\n",
       " '$.timelineObjects[*].activitySegment.simplifiedRawPath',\n",
       " '$.timelineObjects[*].activitySegment.simplifiedRawPath.distanceMeters',\n",
       " '$.timelineObjects[*].activitySegment.simplifiedRawPath.points',\n",
       " '$.timelineObjects[*].activitySegment.simplifiedRawPath.points[*]',\n",
       " '$.timelineObjects[*].activitySegment.simplifiedRawPath.points[*].accuracyMeters',\n",
       " '$.timelineObjects[*].activitySegment.simplifiedRawPath.points[*].latE7',\n",
       " '$.timelineObjects[*].activitySegment.simplifiedRawPath.points[*].lngE7',\n",
       " '$.timelineObjects[*].activitySegment.simplifiedRawPath.points[*].timestamp',\n",
       " '$.timelineObjects[*].activitySegment.simplifiedRawPath.source',\n",
       " '$.timelineObjects[*].activitySegment.startLocation',\n",
       " '$.timelineObjects[*].activitySegment.startLocation.latitudeE7',\n",
       " '$.timelineObjects[*].activitySegment.startLocation.longitudeE7',\n",
       " '$.timelineObjects[*].activitySegment.startLocation.sourceInfo',\n",
       " '$.timelineObjects[*].activitySegment.startLocation.sourceInfo.deviceTag',\n",
       " '$.timelineObjects[*].activitySegment.transitPath',\n",
       " '$.timelineObjects[*].activitySegment.transitPath.confidence',\n",
       " '$.timelineObjects[*].activitySegment.transitPath.distanceMeters',\n",
       " '$.timelineObjects[*].activitySegment.transitPath.hexRgbColor',\n",
       " '$.timelineObjects[*].activitySegment.transitPath.linePlaceId',\n",
       " '$.timelineObjects[*].activitySegment.transitPath.name',\n",
       " '$.timelineObjects[*].activitySegment.transitPath.source',\n",
       " '$.timelineObjects[*].activitySegment.transitPath.stopTimesInfo',\n",
       " '$.timelineObjects[*].activitySegment.transitPath.stopTimesInfo[*]',\n",
       " '$.timelineObjects[*].activitySegment.transitPath.stopTimesInfo[*].scheduleArrivalTimestamp',\n",
       " '$.timelineObjects[*].activitySegment.transitPath.stopTimesInfo[*].scheduledDepartureTimestamp',\n",
       " '$.timelineObjects[*].activitySegment.transitPath.transitStops',\n",
       " '$.timelineObjects[*].activitySegment.transitPath.transitStops[*]',\n",
       " '$.timelineObjects[*].activitySegment.transitPath.transitStops[*].address',\n",
       " '$.timelineObjects[*].activitySegment.transitPath.transitStops[*].latitudeE7',\n",
       " '$.timelineObjects[*].activitySegment.transitPath.transitStops[*].longitudeE7',\n",
       " '$.timelineObjects[*].activitySegment.transitPath.transitStops[*].name',\n",
       " '$.timelineObjects[*].activitySegment.transitPath.transitStops[*].placeId',\n",
       " '$.timelineObjects[*].activitySegment.waypointPath',\n",
       " '$.timelineObjects[*].activitySegment.waypointPath.confidence',\n",
       " '$.timelineObjects[*].activitySegment.waypointPath.distanceMeters',\n",
       " '$.timelineObjects[*].activitySegment.waypointPath.roadSegment',\n",
       " '$.timelineObjects[*].activitySegment.waypointPath.roadSegment[*]',\n",
       " '$.timelineObjects[*].activitySegment.waypointPath.roadSegment[*].duration',\n",
       " '$.timelineObjects[*].activitySegment.waypointPath.roadSegment[*].placeId',\n",
       " '$.timelineObjects[*].activitySegment.waypointPath.source',\n",
       " '$.timelineObjects[*].activitySegment.waypointPath.travelMode',\n",
       " '$.timelineObjects[*].activitySegment.waypointPath.waypoints',\n",
       " '$.timelineObjects[*].activitySegment.waypointPath.waypoints[*]',\n",
       " '$.timelineObjects[*].activitySegment.waypointPath.waypoints[*].latE7',\n",
       " '$.timelineObjects[*].activitySegment.waypointPath.waypoints[*].lngE7',\n",
       " '$.timelineObjects[*].placeVisit',\n",
       " '$.timelineObjects[*].placeVisit.centerLatE7',\n",
       " '$.timelineObjects[*].placeVisit.centerLngE7',\n",
       " '$.timelineObjects[*].placeVisit.checkin',\n",
       " '$.timelineObjects[*].placeVisit.checkin.atTime',\n",
       " '$.timelineObjects[*].placeVisit.checkin.device',\n",
       " '$.timelineObjects[*].placeVisit.checkin.device.android',\n",
       " '$.timelineObjects[*].placeVisit.checkin.device.android.fingerprint',\n",
       " '$.timelineObjects[*].placeVisit.duration',\n",
       " '$.timelineObjects[*].placeVisit.duration.endTimestamp',\n",
       " '$.timelineObjects[*].placeVisit.duration.startTimestamp',\n",
       " '$.timelineObjects[*].placeVisit.editActionMetadata',\n",
       " '$.timelineObjects[*].placeVisit.editActionMetadata.editHistory',\n",
       " '$.timelineObjects[*].placeVisit.editActionMetadata.editHistory.editEvent',\n",
       " '$.timelineObjects[*].placeVisit.editActionMetadata.editHistory.editEvent[*]',\n",
       " '$.timelineObjects[*].placeVisit.editActionMetadata.editHistory.editEvent[*].editOperation',\n",
       " '$.timelineObjects[*].placeVisit.editActionMetadata.editHistory.editEvent[*].editOperation[*]',\n",
       " '$.timelineObjects[*].placeVisit.editActionMetadata.editHistory.editEvent[*].uiConfiguration',\n",
       " '$.timelineObjects[*].placeVisit.editActionMetadata.editHistory.editEvent[*].uiConfiguration.uiPlaceVisitConfiguration',\n",
       " '$.timelineObjects[*].placeVisit.editActionMetadata.originalCandidates',\n",
       " '$.timelineObjects[*].placeVisit.editActionMetadata.originalCandidates.placeVisitSegment',\n",
       " '$.timelineObjects[*].placeVisit.editActionMetadata.originalCandidates.placeVisitSegment.placeVisitCandidate',\n",
       " '$.timelineObjects[*].placeVisit.editActionMetadata.originalCandidates.placeVisitSegment.placeVisitCandidate[*]',\n",
       " '$.timelineObjects[*].placeVisit.editActionMetadata.originalCandidates.placeVisitSegment.placeVisitCandidate[*].location',\n",
       " '$.timelineObjects[*].placeVisit.editActionMetadata.originalCandidates.placeVisitSegment.placeVisitCandidate[*].location.address',\n",
       " '$.timelineObjects[*].placeVisit.editActionMetadata.originalCandidates.placeVisitSegment.placeVisitCandidate[*].location.locationConfidence',\n",
       " '$.timelineObjects[*].placeVisit.editActionMetadata.originalCandidates.placeVisitSegment.placeVisitCandidate[*].location.name',\n",
       " '$.timelineObjects[*].placeVisit.editActionMetadata.originalCandidates.placeVisitSegment.placeVisitCandidate[*].location.placeId',\n",
       " '$.timelineObjects[*].placeVisit.editActionMetadata.placeVisitSegment',\n",
       " '$.timelineObjects[*].placeVisit.editActionMetadata.placeVisitSegment.location',\n",
       " '$.timelineObjects[*].placeVisit.editActionMetadata.placeVisitSegment.location.address',\n",
       " '$.timelineObjects[*].placeVisit.editActionMetadata.placeVisitSegment.location.locationConfidence',\n",
       " '$.timelineObjects[*].placeVisit.editActionMetadata.placeVisitSegment.location.name',\n",
       " '$.timelineObjects[*].placeVisit.editActionMetadata.placeVisitSegment.location.placeId',\n",
       " '$.timelineObjects[*].placeVisit.editConfirmationStatus',\n",
       " '$.timelineObjects[*].placeVisit.lastEditedTimestamp',\n",
       " '$.timelineObjects[*].placeVisit.location',\n",
       " '$.timelineObjects[*].placeVisit.location.address',\n",
       " '$.timelineObjects[*].placeVisit.location.calibratedProbability',\n",
       " '$.timelineObjects[*].placeVisit.location.latitudeE7',\n",
       " '$.timelineObjects[*].placeVisit.location.locationConfidence',\n",
       " '$.timelineObjects[*].placeVisit.location.longitudeE7',\n",
       " '$.timelineObjects[*].placeVisit.location.name',\n",
       " '$.timelineObjects[*].placeVisit.location.placeId',\n",
       " '$.timelineObjects[*].placeVisit.location.semanticType',\n",
       " '$.timelineObjects[*].placeVisit.location.sourceInfo',\n",
       " '$.timelineObjects[*].placeVisit.location.sourceInfo.deviceTag',\n",
       " '$.timelineObjects[*].placeVisit.locationAssertionType',\n",
       " '$.timelineObjects[*].placeVisit.locationConfidence',\n",
       " '$.timelineObjects[*].placeVisit.otherCandidateLocations',\n",
       " '$.timelineObjects[*].placeVisit.otherCandidateLocations[*]',\n",
       " '$.timelineObjects[*].placeVisit.otherCandidateLocations[*].address',\n",
       " '$.timelineObjects[*].placeVisit.otherCandidateLocations[*].calibratedProbability',\n",
       " '$.timelineObjects[*].placeVisit.otherCandidateLocations[*].latitudeE7',\n",
       " '$.timelineObjects[*].placeVisit.otherCandidateLocations[*].locationConfidence',\n",
       " '$.timelineObjects[*].placeVisit.otherCandidateLocations[*].longitudeE7',\n",
       " '$.timelineObjects[*].placeVisit.otherCandidateLocations[*].name',\n",
       " '$.timelineObjects[*].placeVisit.otherCandidateLocations[*].placeId',\n",
       " '$.timelineObjects[*].placeVisit.otherCandidateLocations[*].semanticType',\n",
       " '$.timelineObjects[*].placeVisit.otherCandidateLocations[*].sourceInfo',\n",
       " '$.timelineObjects[*].placeVisit.otherCandidateLocations[*].sourceInfo.deviceTag',\n",
       " '$.timelineObjects[*].placeVisit.placeConfidence',\n",
       " '$.timelineObjects[*].placeVisit.placeVisitImportance',\n",
       " '$.timelineObjects[*].placeVisit.placeVisitType',\n",
       " '$.timelineObjects[*].placeVisit.visitConfidence'}"
      ]
     },
     "execution_count": 7,
     "metadata": {},
     "output_type": "execute_result"
    }
   ],
   "source": [
    "print(len(tree.get_paths()))\n",
    "tree.get_paths()"
   ]
  },
  {
   "cell_type": "code",
   "execution_count": 8,
   "id": "ed977520",
   "metadata": {},
   "outputs": [
    {
     "data": {
      "text/plain": [
       "[NodeDict 'activityType'\n",
       " - fieldName: activityType\n",
       " - data: Length of 9\n",
       " - foundType: str\n",
       " - descriptiveType: None\n",
       " - unique: None\n",
       " - default: None\n",
       " - description: None\n",
       " - example: None\n",
       " - regex: None\n",
       " - parent: [0]\n",
       " - path: $.timelineObjects[4].activitySegment.activities[0].activityType]"
      ]
     },
     "execution_count": 8,
     "metadata": {},
     "output_type": "execute_result"
    }
   ],
   "source": [
    "tree.get_children_from_path(\"$.timelineObjects[4].activitySegment.activities[0].activityType\")"
   ]
  },
  {
   "cell_type": "markdown",
   "id": "50382daa",
   "metadata": {},
   "source": [
    "#### `get_children_from_path` supports wildcards and returns every match"
   ]
  },
  {
   "cell_type": "code",
   "execution_count": 9,
   "id": "ac28fbeb",
   "metadata": {},
   "outputs": [
    {
     "data": {
      "text/plain": [
       "[NodeDict 'activityType'\n",
       " - fieldName: activityType\n",
       " - data: Length of 9\n",
       " - foundType: str\n",
       " - descriptiveType: None\n",
       " - unique: None\n",
       " - default: None\n",
       " - description: None\n",
       " - example: None\n",
       " - regex: None\n",
       " - parent: [0]\n",
       " - path: $.timelineObjects[4].activitySegment.activities[0].activityType,\n",
       " NodeDict 'probability'\n",
       " - fieldName: probability\n",
       " - data: Length of 17\n",
       " - foundType: float\n",
       " - descriptiveType: None\n",
       " - unique: None\n",
       " - default: None\n",
       " - description: None\n",
       " - example: None\n",
       " - regex: None\n",
       " - parent: [0]\n",
       " - path: $.timelineObjects[4].activitySegment.activities[0].probability,\n",
       " NodeDict 'activityType'\n",
       " - fieldName: activityType\n",
       " - data: Length of 8\n",
       " - foundType: str\n",
       " - descriptiveType: None\n",
       " - unique: None\n",
       " - default: None\n",
       " - description: None\n",
       " - example: None\n",
       " - regex: None\n",
       " - parent: [1]\n",
       " - path: $.timelineObjects[4].activitySegment.activities[1].activityType,\n",
       " NodeDict 'probability'\n",
       " - fieldName: probability\n",
       " - data: Length of 18\n",
       " - foundType: float\n",
       " - descriptiveType: None\n",
       " - unique: None\n",
       " - default: None\n",
       " - description: None\n",
       " - example: None\n",
       " - regex: None\n",
       " - parent: [1]\n",
       " - path: $.timelineObjects[4].activitySegment.activities[1].probability,\n",
       " NodeDict 'activityType'\n",
       " - fieldName: activityType\n",
       " - data: Length of 6\n",
       " - foundType: str\n",
       " - descriptiveType: None\n",
       " - unique: None\n",
       " - default: None\n",
       " - description: None\n",
       " - example: None\n",
       " - regex: None\n",
       " - parent: [2]\n",
       " - path: $.timelineObjects[4].activitySegment.activities[2].activityType,\n",
       " NodeDict 'probability'\n",
       " - fieldName: probability\n",
       " - data: Length of 18\n",
       " - foundType: float\n",
       " - descriptiveType: None\n",
       " - unique: None\n",
       " - default: None\n",
       " - description: None\n",
       " - example: None\n",
       " - regex: None\n",
       " - parent: [2]\n",
       " - path: $.timelineObjects[4].activitySegment.activities[2].probability,\n",
       " NodeDict 'activityType'\n",
       " - fieldName: activityType\n",
       " - data: Length of 7\n",
       " - foundType: str\n",
       " - descriptiveType: None\n",
       " - unique: None\n",
       " - default: None\n",
       " - description: None\n",
       " - example: None\n",
       " - regex: None\n",
       " - parent: [3]\n",
       " - path: $.timelineObjects[4].activitySegment.activities[3].activityType,\n",
       " NodeDict 'probability'\n",
       " - fieldName: probability\n",
       " - data: Length of 17\n",
       " - foundType: float\n",
       " - descriptiveType: None\n",
       " - unique: None\n",
       " - default: None\n",
       " - description: None\n",
       " - example: None\n",
       " - regex: None\n",
       " - parent: [3]\n",
       " - path: $.timelineObjects[4].activitySegment.activities[3].probability,\n",
       " NodeDict 'activityType'\n",
       " - fieldName: activityType\n",
       " - data: Length of 20\n",
       " - foundType: str\n",
       " - descriptiveType: None\n",
       " - unique: None\n",
       " - default: None\n",
       " - description: None\n",
       " - example: None\n",
       " - regex: None\n",
       " - parent: [4]\n",
       " - path: $.timelineObjects[4].activitySegment.activities[4].activityType,\n",
       " NodeDict 'probability'\n",
       " - fieldName: probability\n",
       " - data: Length of 17\n",
       " - foundType: float\n",
       " - descriptiveType: None\n",
       " - unique: None\n",
       " - default: None\n",
       " - description: None\n",
       " - example: None\n",
       " - regex: None\n",
       " - parent: [4]\n",
       " - path: $.timelineObjects[4].activitySegment.activities[4].probability,\n",
       " NodeDict 'activityType'\n",
       " - fieldName: activityType\n",
       " - data: Length of 7\n",
       " - foundType: str\n",
       " - descriptiveType: None\n",
       " - unique: None\n",
       " - default: None\n",
       " - description: None\n",
       " - example: None\n",
       " - regex: None\n",
       " - parent: [5]\n",
       " - path: $.timelineObjects[4].activitySegment.activities[5].activityType,\n",
       " NodeDict 'probability'\n",
       " - fieldName: probability\n",
       " - data: Length of 18\n",
       " - foundType: float\n",
       " - descriptiveType: None\n",
       " - unique: None\n",
       " - default: None\n",
       " - description: None\n",
       " - example: None\n",
       " - regex: None\n",
       " - parent: [5]\n",
       " - path: $.timelineObjects[4].activitySegment.activities[5].probability,\n",
       " NodeDict 'activityType'\n",
       " - fieldName: activityType\n",
       " - data: Length of 7\n",
       " - foundType: str\n",
       " - descriptiveType: None\n",
       " - unique: None\n",
       " - default: None\n",
       " - description: None\n",
       " - example: None\n",
       " - regex: None\n",
       " - parent: [6]\n",
       " - path: $.timelineObjects[4].activitySegment.activities[6].activityType,\n",
       " NodeDict 'probability'\n",
       " - fieldName: probability\n",
       " - data: Length of 17\n",
       " - foundType: float\n",
       " - descriptiveType: None\n",
       " - unique: None\n",
       " - default: None\n",
       " - description: None\n",
       " - example: None\n",
       " - regex: None\n",
       " - parent: [6]\n",
       " - path: $.timelineObjects[4].activitySegment.activities[6].probability,\n",
       " NodeDict 'activityType'\n",
       " - fieldName: activityType\n",
       " - data: Length of 5\n",
       " - foundType: str\n",
       " - descriptiveType: None\n",
       " - unique: None\n",
       " - default: None\n",
       " - description: None\n",
       " - example: None\n",
       " - regex: None\n",
       " - parent: [7]\n",
       " - path: $.timelineObjects[4].activitySegment.activities[7].activityType,\n",
       " NodeDict 'probability'\n",
       " - fieldName: probability\n",
       " - data: Length of 18\n",
       " - foundType: float\n",
       " - descriptiveType: None\n",
       " - unique: None\n",
       " - default: None\n",
       " - description: None\n",
       " - example: None\n",
       " - regex: None\n",
       " - parent: [7]\n",
       " - path: $.timelineObjects[4].activitySegment.activities[7].probability,\n",
       " NodeDict 'activityType'\n",
       " - fieldName: activityType\n",
       " - data: Length of 12\n",
       " - foundType: str\n",
       " - descriptiveType: None\n",
       " - unique: None\n",
       " - default: None\n",
       " - description: None\n",
       " - example: None\n",
       " - regex: None\n",
       " - parent: [8]\n",
       " - path: $.timelineObjects[4].activitySegment.activities[8].activityType,\n",
       " NodeDict 'probability'\n",
       " - fieldName: probability\n",
       " - data: Length of 20\n",
       " - foundType: float\n",
       " - descriptiveType: None\n",
       " - unique: None\n",
       " - default: None\n",
       " - description: None\n",
       " - example: None\n",
       " - regex: None\n",
       " - parent: [8]\n",
       " - path: $.timelineObjects[4].activitySegment.activities[8].probability,\n",
       " NodeDict 'activityType'\n",
       " - fieldName: activityType\n",
       " - data: Length of 8\n",
       " - foundType: str\n",
       " - descriptiveType: None\n",
       " - unique: None\n",
       " - default: None\n",
       " - description: None\n",
       " - example: None\n",
       " - regex: None\n",
       " - parent: [9]\n",
       " - path: $.timelineObjects[4].activitySegment.activities[9].activityType,\n",
       " NodeDict 'probability'\n",
       " - fieldName: probability\n",
       " - data: Length of 19\n",
       " - foundType: float\n",
       " - descriptiveType: None\n",
       " - unique: None\n",
       " - default: None\n",
       " - description: None\n",
       " - example: None\n",
       " - regex: None\n",
       " - parent: [9]\n",
       " - path: $.timelineObjects[4].activitySegment.activities[9].probability,\n",
       " NodeDict 'activityType'\n",
       " - fieldName: activityType\n",
       " - data: Length of 7\n",
       " - foundType: str\n",
       " - descriptiveType: None\n",
       " - unique: None\n",
       " - default: None\n",
       " - description: None\n",
       " - example: None\n",
       " - regex: None\n",
       " - parent: [10]\n",
       " - path: $.timelineObjects[4].activitySegment.activities[10].activityType,\n",
       " NodeDict 'probability'\n",
       " - fieldName: probability\n",
       " - data: Length of 20\n",
       " - foundType: float\n",
       " - descriptiveType: None\n",
       " - unique: None\n",
       " - default: None\n",
       " - description: None\n",
       " - example: None\n",
       " - regex: None\n",
       " - parent: [10]\n",
       " - path: $.timelineObjects[4].activitySegment.activities[10].probability,\n",
       " NodeDict 'activityType'\n",
       " - fieldName: activityType\n",
       " - data: Length of 6\n",
       " - foundType: str\n",
       " - descriptiveType: None\n",
       " - unique: None\n",
       " - default: None\n",
       " - description: None\n",
       " - example: None\n",
       " - regex: None\n",
       " - parent: [11]\n",
       " - path: $.timelineObjects[4].activitySegment.activities[11].activityType,\n",
       " NodeDict 'probability'\n",
       " - fieldName: probability\n",
       " - data: Length of 20\n",
       " - foundType: float\n",
       " - descriptiveType: None\n",
       " - unique: None\n",
       " - default: None\n",
       " - description: None\n",
       " - example: None\n",
       " - regex: None\n",
       " - parent: [11]\n",
       " - path: $.timelineObjects[4].activitySegment.activities[11].probability,\n",
       " NodeDict 'activityType'\n",
       " - fieldName: activityType\n",
       " - data: Length of 7\n",
       " - foundType: str\n",
       " - descriptiveType: None\n",
       " - unique: None\n",
       " - default: None\n",
       " - description: None\n",
       " - example: None\n",
       " - regex: None\n",
       " - parent: [12]\n",
       " - path: $.timelineObjects[4].activitySegment.activities[12].activityType,\n",
       " NodeDict 'probability'\n",
       " - fieldName: probability\n",
       " - data: Length of 20\n",
       " - foundType: float\n",
       " - descriptiveType: None\n",
       " - unique: None\n",
       " - default: None\n",
       " - description: None\n",
       " - example: None\n",
       " - regex: None\n",
       " - parent: [12]\n",
       " - path: $.timelineObjects[4].activitySegment.activities[12].probability,\n",
       " NodeDict 'activityType'\n",
       " - fieldName: activityType\n",
       " - data: Length of 6\n",
       " - foundType: str\n",
       " - descriptiveType: None\n",
       " - unique: None\n",
       " - default: None\n",
       " - description: None\n",
       " - example: None\n",
       " - regex: None\n",
       " - parent: [13]\n",
       " - path: $.timelineObjects[4].activitySegment.activities[13].activityType,\n",
       " NodeDict 'probability'\n",
       " - fieldName: probability\n",
       " - data: Length of 21\n",
       " - foundType: float\n",
       " - descriptiveType: None\n",
       " - unique: None\n",
       " - default: None\n",
       " - description: None\n",
       " - example: None\n",
       " - regex: None\n",
       " - parent: [13]\n",
       " - path: $.timelineObjects[4].activitySegment.activities[13].probability,\n",
       " NodeDict 'activityType'\n",
       " - fieldName: activityType\n",
       " - data: Length of 10\n",
       " - foundType: str\n",
       " - descriptiveType: None\n",
       " - unique: None\n",
       " - default: None\n",
       " - description: None\n",
       " - example: None\n",
       " - regex: None\n",
       " - parent: [14]\n",
       " - path: $.timelineObjects[4].activitySegment.activities[14].activityType,\n",
       " NodeDict 'probability'\n",
       " - fieldName: probability\n",
       " - data: Length of 20\n",
       " - foundType: float\n",
       " - descriptiveType: None\n",
       " - unique: None\n",
       " - default: None\n",
       " - description: None\n",
       " - example: None\n",
       " - regex: None\n",
       " - parent: [14]\n",
       " - path: $.timelineObjects[4].activitySegment.activities[14].probability]"
      ]
     },
     "execution_count": 9,
     "metadata": {},
     "output_type": "execute_result"
    }
   ],
   "source": [
    "tree.get_children_from_path(\"$.timelineObjects[4].activitySegment.activities[*].*\")"
   ]
  },
  {
   "cell_type": "markdown",
   "id": "c0669544",
   "metadata": {},
   "source": [
    "## Data semantics - Model"
   ]
  },
  {
   "cell_type": "markdown",
   "id": "efa6ad30",
   "metadata": {},
   "source": [
    "### We create a new model"
   ]
  },
  {
   "cell_type": "code",
   "execution_count": 10,
   "id": "6875da3c",
   "metadata": {},
   "outputs": [],
   "source": [
    "from json_ld_semantics.model import Model\n",
    "model = Model()"
   ]
  },
  {
   "cell_type": "markdown",
   "id": "9dab35c9",
   "metadata": {},
   "source": [
    "### We can add files to a model to process it"
   ]
  },
  {
   "cell_type": "code",
   "execution_count": 11,
   "id": "a1ff90b7",
   "metadata": {},
   "outputs": [
    {
     "ename": "AttributeError",
     "evalue": "'dict' object has no attribute 'foundType'",
     "output_type": "error",
     "traceback": [
      "\u001b[0;31m---------------------------------------------------------------------------\u001b[0m",
      "\u001b[0;31mAttributeError\u001b[0m                            Traceback (most recent call last)",
      "\u001b[0;32m/tmp/ipykernel_354/2426239009.py\u001b[0m in \u001b[0;36m<module>\u001b[0;34m\u001b[0m\n\u001b[1;32m      1\u001b[0m \u001b[0mmodel\u001b[0m\u001b[0;34m.\u001b[0m\u001b[0madd_files\u001b[0m\u001b[0;34m(\u001b[0m\u001b[0mfilename\u001b[0m\u001b[0;34m)\u001b[0m\u001b[0;34m\u001b[0m\u001b[0;34m\u001b[0m\u001b[0m\n\u001b[0;32m----> 2\u001b[0;31m \u001b[0mmodel\u001b[0m\u001b[0;34m.\u001b[0m\u001b[0mprocess_files\u001b[0m\u001b[0;34m(\u001b[0m\u001b[0;34m)\u001b[0m\u001b[0;34m\u001b[0m\u001b[0;34m\u001b[0m\u001b[0m\n\u001b[0m",
      "\u001b[0;32m/mnt/e/Work/hestia/json-ld-semantics/src/json_ld_semantics/model.py\u001b[0m in \u001b[0;36mprocess_files\u001b[0;34m(self, apply)\u001b[0m\n\u001b[1;32m    101\u001b[0m                 \u001b[0mjson_data\u001b[0m \u001b[0;34m=\u001b[0m \u001b[0mjson\u001b[0m\u001b[0;34m.\u001b[0m\u001b[0mload\u001b[0m\u001b[0;34m(\u001b[0m\u001b[0mfile\u001b[0m\u001b[0;34m)\u001b[0m\u001b[0;34m\u001b[0m\u001b[0;34m\u001b[0m\u001b[0m\n\u001b[1;32m    102\u001b[0m \u001b[0;34m\u001b[0m\u001b[0m\n\u001b[0;32m--> 103\u001b[0;31m             \u001b[0mtraversal\u001b[0m \u001b[0;34m=\u001b[0m \u001b[0mTree\u001b[0m\u001b[0;34m(\u001b[0m\u001b[0mjson_data\u001b[0m\u001b[0;34m)\u001b[0m\u001b[0;34m.\u001b[0m\u001b[0mexport_traversal\u001b[0m\u001b[0;34m(\u001b[0m\u001b[0;34m)\u001b[0m\u001b[0;34m\u001b[0m\u001b[0;34m\u001b[0m\u001b[0m\n\u001b[0m\u001b[1;32m    104\u001b[0m             \u001b[0mchanges\u001b[0m\u001b[0;34m.\u001b[0m\u001b[0mappend\u001b[0m\u001b[0;34m(\u001b[0m\u001b[0;34m(\u001b[0m\u001b[0mfilename\u001b[0m\u001b[0;34m,\u001b[0m \u001b[0mDeepDiff\u001b[0m\u001b[0;34m(\u001b[0m\u001b[0mfull_traversal\u001b[0m\u001b[0;34m,\u001b[0m \u001b[0mtraversal\u001b[0m\u001b[0;34m)\u001b[0m\u001b[0;34m)\u001b[0m\u001b[0;34m)\u001b[0m\u001b[0;34m\u001b[0m\u001b[0;34m\u001b[0m\u001b[0m\n\u001b[1;32m    105\u001b[0m             \u001b[0mfull_traversal\u001b[0m\u001b[0;34m.\u001b[0m\u001b[0mupdate\u001b[0m\u001b[0;34m(\u001b[0m\u001b[0mtraversal\u001b[0m\u001b[0;34m)\u001b[0m\u001b[0;34m\u001b[0m\u001b[0;34m\u001b[0m\u001b[0m\n",
      "\u001b[0;32m/mnt/e/Work/hestia/json-ld-semantics/src/json_ld_semantics/semantics.py\u001b[0m in \u001b[0;36mexport_traversal\u001b[0;34m(self, with_root)\u001b[0m\n\u001b[1;32m    197\u001b[0m                     \u001b[0;34m\"example\"\u001b[0m\u001b[0;34m:\u001b[0m \u001b[0;32mNone\u001b[0m\u001b[0;34m,\u001b[0m\u001b[0;34m\u001b[0m\u001b[0;34m\u001b[0m\u001b[0m\n\u001b[1;32m    198\u001b[0m                     \u001b[0;34m\"regex\"\u001b[0m\u001b[0;34m:\u001b[0m \u001b[0;32mNone\u001b[0m\u001b[0;34m,\u001b[0m\u001b[0;34m\u001b[0m\u001b[0;34m\u001b[0m\u001b[0m\n\u001b[0;32m--> 199\u001b[0;31m                     \u001b[0;34m\"traversal\"\u001b[0m\u001b[0;34m:\u001b[0m \u001b[0mtreeify\u001b[0m\u001b[0;34m(\u001b[0m\u001b[0mself\u001b[0m\u001b[0;34m.\u001b[0m\u001b[0mtraversal\u001b[0m\u001b[0;34m)\u001b[0m\u001b[0;34m,\u001b[0m\u001b[0;34m\u001b[0m\u001b[0;34m\u001b[0m\u001b[0m\n\u001b[0m\u001b[1;32m    200\u001b[0m                 }\n\u001b[1;32m    201\u001b[0m             }\n",
      "\u001b[0;32m/mnt/e/Work/hestia/json-ld-semantics/src/json_ld_semantics/semantics.py\u001b[0m in \u001b[0;36mtreeify\u001b[0;34m(inner_traversal, root)\u001b[0m\n\u001b[1;32m    170\u001b[0m                         key: {\n\u001b[1;32m    171\u001b[0m                             \u001b[0;34m\"path\"\u001b[0m\u001b[0;34m:\u001b[0m \u001b[0;34mf\"{root}{'.' if isinstance(node, NodeDict) else ''}{key}\"\u001b[0m\u001b[0;34m,\u001b[0m\u001b[0;34m\u001b[0m\u001b[0;34m\u001b[0m\u001b[0m\n\u001b[0;32m--> 172\u001b[0;31m                             \u001b[0;34m\"foundType\"\u001b[0m\u001b[0;34m:\u001b[0m \u001b[0mnode\u001b[0m\u001b[0;34m.\u001b[0m\u001b[0mfoundType\u001b[0m\u001b[0;34m,\u001b[0m\u001b[0;34m\u001b[0m\u001b[0;34m\u001b[0m\u001b[0m\n\u001b[0m\u001b[1;32m    173\u001b[0m                             \u001b[0;34m\"descriptiveType\"\u001b[0m\u001b[0;34m:\u001b[0m \u001b[0mself\u001b[0m\u001b[0;34m.\u001b[0m\u001b[0mdescriptiveType\u001b[0m\u001b[0;34m,\u001b[0m\u001b[0;34m\u001b[0m\u001b[0;34m\u001b[0m\u001b[0m\n\u001b[1;32m    174\u001b[0m                             \u001b[0;34m\"unique\"\u001b[0m\u001b[0;34m:\u001b[0m \u001b[0mself\u001b[0m\u001b[0;34m.\u001b[0m\u001b[0munique\u001b[0m\u001b[0;34m,\u001b[0m\u001b[0;34m\u001b[0m\u001b[0;34m\u001b[0m\u001b[0m\n",
      "\u001b[0;31mAttributeError\u001b[0m: 'dict' object has no attribute 'foundType'"
     ]
    }
   ],
   "source": [
    "model.add_files(filename)\n",
    "model.process_files()"
   ]
  },
  {
   "cell_type": "markdown",
   "id": "9091a7b5",
   "metadata": {},
   "source": [
    "### Or, if we already have a traversal, we can create the model directly from it"
   ]
  },
  {
   "cell_type": "code",
   "execution_count": null,
   "id": "c54ac602",
   "metadata": {},
   "outputs": [],
   "source": [
    "model = Model(traversal=tree.export_traversal())"
   ]
  },
  {
   "cell_type": "markdown",
   "id": "1c77d3c3",
   "metadata": {},
   "source": [
    "### Now, we can see what paths are available in our model"
   ]
  },
  {
   "cell_type": "code",
   "execution_count": null,
   "id": "5ebc9eb3",
   "metadata": {},
   "outputs": [],
   "source": [
    "model.get_paths()"
   ]
  },
  {
   "cell_type": "markdown",
   "id": "d03085be",
   "metadata": {},
   "source": [
    "### But more importantly, we can see what attributes are linked to these paths"
   ]
  },
  {
   "cell_type": "code",
   "execution_count": null,
   "id": "dcf3e4ef",
   "metadata": {},
   "outputs": [],
   "source": [
    "model.to_list()"
   ]
  },
  {
   "cell_type": "markdown",
   "id": "dbda5660",
   "metadata": {},
   "source": [
    "### It's a bit empty for now... Let's add some info."
   ]
  },
  {
   "cell_type": "code",
   "execution_count": null,
   "id": "f3243a04",
   "metadata": {},
   "outputs": [],
   "source": [
    "chosen_path = \"$[*].url\"\n",
    "model.find_info(chosen_path)"
   ]
  },
  {
   "cell_type": "code",
   "execution_count": null,
   "id": "cf0d22a3",
   "metadata": {},
   "outputs": [],
   "source": [
    "model.set_attribute(\n",
    "    chosen_path,\n",
    "    descriptiveType=\"https://schema.org/url\",\n",
    "    unique=False,\n",
    "    description=\"URL to that pull request\",\n",
    "    example=\"https://github.com/JeanMichel/infovisu17/pull/1\",\n",
    "    regex=\"^https:\\/\\/github\\.com\\/\\w+\\/\\w+\\/pull\\/\\d+$\"\n",
    ")"
   ]
  },
  {
   "cell_type": "code",
   "execution_count": null,
   "id": "93c8d453",
   "metadata": {},
   "outputs": [],
   "source": [
    "model.find_info(chosen_path)"
   ]
  },
  {
   "cell_type": "code",
   "execution_count": null,
   "id": "74df8c7c",
   "metadata": {},
   "outputs": [],
   "source": [
    "model.to_list()"
   ]
  }
 ],
 "metadata": {
  "kernelspec": {
   "display_name": "Python 3",
   "language": "python",
   "name": "python3"
  },
  "language_info": {
   "codemirror_mode": {
    "name": "ipython",
    "version": 3
   },
   "file_extension": ".py",
   "mimetype": "text/x-python",
   "name": "python",
   "nbconvert_exporter": "python",
   "pygments_lexer": "ipython3",
   "version": "3.7.3"
  }
 },
 "nbformat": 4,
 "nbformat_minor": 5
}
