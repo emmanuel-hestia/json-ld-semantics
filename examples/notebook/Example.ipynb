{
 "cells": [
  {
   "cell_type": "markdown",
   "id": "0d7e1dfa",
   "metadata": {},
   "source": [
    "## Introduction"
   ]
  },
  {
   "cell_type": "markdown",
   "id": "1a977ab6",
   "metadata": {},
   "source": [
    "### Imports"
   ]
  },
  {
   "cell_type": "code",
   "execution_count": 1,
   "id": "523c5799",
   "metadata": {},
   "outputs": [],
   "source": [
    "%load_ext autoreload\n",
    "%autoreload 2"
   ]
  },
  {
   "cell_type": "code",
   "execution_count": 2,
   "id": "e688d8f0",
   "metadata": {},
   "outputs": [],
   "source": [
    "import json"
   ]
  },
  {
   "cell_type": "markdown",
   "id": "c19ffacb",
   "metadata": {},
   "source": [
    "## Data exploration - Tree"
   ]
  },
  {
   "cell_type": "markdown",
   "id": "80b1631e",
   "metadata": {},
   "source": [
    "### First, we load the raw JSON data"
   ]
  },
  {
   "cell_type": "code",
   "execution_count": 3,
   "id": "2cdcdc30",
   "metadata": {},
   "outputs": [
    {
     "name": "stdout",
     "output_type": "stream",
     "text": [
      "{'type': 'pull_request', 'url': 'https://github.com/JeanMichel/infovisu17/pull/1', 'user': 'https://github.com/JeanMichel', 'repository': 'https://github.com/JeanMichel/infovisu17', 'title': 'Refactoring', 'body': 'Did some work over here.', 'base': {'ref': 'master', 'sha': '18664f82c2673281d952266284f8c43eb28484a5', 'user': 'https://github.com/JeanMichel', 'repo': 'https://github.com/JeanMichel/infovisu17'}, 'head': {'ref': '20170328', 'sha': '4824635ed4088909d192c3afeac6e18f42204389', 'user': 'https://github.com/JeanMichel', 'repo': 'https://github.com/JeanMichel/infovisu17'}, 'assignee': 'https://github.com/JeanMichel', 'assignees': ['https://github.com/JeanMichel', 'https://github.com/JeanMiqueline', 'https://github.com/JeanMarie'], 'milestone': None, 'labels': [], 'reactions': [], 'review_requests': [{'reviewer': 'https://github.com/JeanMiqueline', 'reviewer_type': 'User', 'created_at': '2017-03-28T19:47:14Z', 'updated_at': '2017-03-28T19:47:14Z', 'dismissed_at': None}, {'reviewer': 'https://github.com/JeanMarie', 'reviewer_type': 'User', 'created_at': '2017-03-28T19:47:14Z', 'updated_at': '2017-03-28T19:47:14Z', 'dismissed_at': None}], 'close_issue_references': [], 'work_in_progress': False, 'merged_at': '2017-04-04T08:12:42Z', 'closed_at': '2017-04-04T08:12:42Z', 'created_at': '2017-03-28T19:47:14Z', 'merge_commit_sha': '654f8a3700c6358eea3478241b23fc5011b95dfd'}\n",
      "...\n",
      "{'type': 'pull_request', 'url': 'https://github.com/JeanMichel/vroumbot/pull/15', 'user': 'https://github.com/JeanPatrick', 'repository': 'https://github.com/JeanMichel/vroumbot', 'title': 'NFT goes vroouuuuuuuum', 'body': 'vroum ', 'base': {'ref': 'main', 'sha': 'a282bb97124a8804a02c95ce63441422cf652db6', 'user': 'https://github.com/JeanMichel', 'repo': 'https://github.com/JeanMichel/vroumbot'}, 'head': {'ref': 'main', 'sha': '0a3597d3ba0dc728e1b4c4dafbc02114de348e4c', 'user': 'https://github.com/JeanPatrick', 'repo': 'https://github.com/JeanPatrick/vroumbot'}, 'assignee': None, 'assignees': [], 'milestone': None, 'labels': [], 'reactions': [], 'review_requests': [], 'close_issue_references': [], 'work_in_progress': False, 'merged_at': None, 'closed_at': None, 'created_at': '2022-02-12T15:22:36Z', 'merge_commit_sha': 'ff02be68f49bc5373d21a6f67a7656bb2ae87532'}\n"
     ]
    }
   ],
   "source": [
    "filename = \"../inputs/pull_requests_000001.json\"\n",
    "\n",
    "with open(filename, \"r\") as jsonfile:\n",
    "    json_data = json.loads(jsonfile.read())\n",
    "print(str(json_data[0]) + \"\\n...\\n\" + str(json_data[-1]))"
   ]
  },
  {
   "cell_type": "markdown",
   "id": "2e6bdf93",
   "metadata": {},
   "source": [
    "### Then, we create a tree with the data"
   ]
  },
  {
   "cell_type": "code",
   "execution_count": 4,
   "id": "f55818b0",
   "metadata": {},
   "outputs": [],
   "source": [
    "from json_ld_semantics.semantics import Tree\n",
    "tree = Tree(json_data)"
   ]
  },
  {
   "cell_type": "markdown",
   "id": "f35cc836",
   "metadata": {},
   "source": [
    "### We can explore whatever is inside"
   ]
  },
  {
   "cell_type": "code",
   "execution_count": 5,
   "id": "ca957da3",
   "metadata": {},
   "outputs": [
    {
     "name": "stdout",
     "output_type": "stream",
     "text": [
      "Tree '$' with 44 childrens and with 30 paths\n",
      "- fieldName: $\n",
      "- data: Length of 44\n",
      "- foundType: Root\n",
      "- parent: None\n",
      "- traversal: 30 paths\n",
      "- children: Length of 44\n",
      "- path: $\n",
      "\n"
     ]
    }
   ],
   "source": [
    "print(tree)"
   ]
  },
  {
   "cell_type": "code",
   "execution_count": 6,
   "id": "1227aad7",
   "metadata": {},
   "outputs": [
    {
     "name": "stdout",
     "output_type": "stream",
     "text": [
      "$\n",
      "  $[*]\n",
      "    $[*].type\n",
      "    $[*].url\n",
      "    $[*].user\n",
      "    $[*].repository\n",
      "    $[*].title\n",
      "    $[*].body\n",
      "    $[*].base\n",
      "      $[*].base.ref\n",
      "      $[*].base.sha\n",
      "      $[*].base.user\n",
      "      $[*].base.repo\n",
      "    $[*].head\n",
      "      $[*].head.ref\n",
      "      $[*].head.sha\n",
      "      $[*].head.user\n",
      "      $[*].head.repo\n",
      "    $[*].assignee\n",
      "    $[*].assignees\n",
      "    $[*].milestone\n",
      "    $[*].labels\n",
      "    $[*].reactions\n",
      "    $[*].review_requests\n",
      "    $[*].close_issue_references\n",
      "    $[*].work_in_progress\n",
      "    $[*].merged_at\n",
      "    $[*].closed_at\n",
      "    $[*].created_at\n",
      "    $[*].merge_commit_sha\n",
      "\n"
     ]
    }
   ],
   "source": [
    "print(tree.get_paths_fancy())"
   ]
  },
  {
   "cell_type": "markdown",
   "id": "c0669544",
   "metadata": {},
   "source": [
    "## Data semantics - Model"
   ]
  },
  {
   "cell_type": "markdown",
   "id": "4d307830",
   "metadata": {},
   "source": [
    "### We create a new model"
   ]
  },
  {
   "cell_type": "code",
   "execution_count": 7,
   "id": "6875da3c",
   "metadata": {},
   "outputs": [],
   "source": [
    "from json_ld_semantics.model import Model\n",
    "model = Model()"
   ]
  },
  {
   "cell_type": "markdown",
   "id": "9dab35c9",
   "metadata": {},
   "source": [
    "### We can add files to a model to process it"
   ]
  },
  {
   "cell_type": "code",
   "execution_count": 8,
   "id": "a1ff90b7",
   "metadata": {},
   "outputs": [
    {
     "data": {
      "text/plain": [
       "[('../inputs/pull_requests_000001.json',\n",
       "  {'dictionary_item_added': [root['$']]})]"
      ]
     },
     "execution_count": 8,
     "metadata": {},
     "output_type": "execute_result"
    }
   ],
   "source": [
    "model.add_files(filename)\n",
    "model.process_files()"
   ]
  },
  {
   "cell_type": "markdown",
   "id": "9091a7b5",
   "metadata": {},
   "source": [
    "### Or, if we already have a traversal, we can create the model directly from it"
   ]
  },
  {
   "cell_type": "code",
   "execution_count": 9,
   "id": "c54ac602",
   "metadata": {},
   "outputs": [],
   "source": [
    "model = Model(traversal=tree.export_traversal())"
   ]
  },
  {
   "cell_type": "markdown",
   "id": "1c77d3c3",
   "metadata": {},
   "source": [
    "### Now, we can see what paths are available in our model"
   ]
  },
  {
   "cell_type": "code",
   "execution_count": 10,
   "id": "5ebc9eb3",
   "metadata": {},
   "outputs": [
    {
     "data": {
      "text/plain": [
       "{'$',\n",
       " '$[*]',\n",
       " '$[*].assignee',\n",
       " '$[*].assignees',\n",
       " '$[*].base',\n",
       " '$[*].base.ref',\n",
       " '$[*].base.repo',\n",
       " '$[*].base.sha',\n",
       " '$[*].base.user',\n",
       " '$[*].body',\n",
       " '$[*].close_issue_references',\n",
       " '$[*].closed_at',\n",
       " '$[*].created_at',\n",
       " '$[*].head',\n",
       " '$[*].head.ref',\n",
       " '$[*].head.repo',\n",
       " '$[*].head.sha',\n",
       " '$[*].head.user',\n",
       " '$[*].labels',\n",
       " '$[*].merge_commit_sha',\n",
       " '$[*].merged_at',\n",
       " '$[*].milestone',\n",
       " '$[*].reactions',\n",
       " '$[*].repository',\n",
       " '$[*].review_requests',\n",
       " '$[*].title',\n",
       " '$[*].type',\n",
       " '$[*].url',\n",
       " '$[*].user',\n",
       " '$[*].work_in_progress'}"
      ]
     },
     "execution_count": 10,
     "metadata": {},
     "output_type": "execute_result"
    }
   ],
   "source": [
    "model.get_paths()"
   ]
  },
  {
   "cell_type": "markdown",
   "id": "d03085be",
   "metadata": {},
   "source": [
    "### But more importantly, we can see what attributes are linked to these paths"
   ]
  },
  {
   "cell_type": "code",
   "execution_count": 11,
   "id": "dcf3e4ef",
   "metadata": {},
   "outputs": [
    {
     "data": {
      "text/plain": [
       "[['path',\n",
       "  'foundType',\n",
       "  'descriptiveType',\n",
       "  'unique',\n",
       "  'default',\n",
       "  'description',\n",
       "  'example',\n",
       "  'regex'],\n",
       " [['$', json_ld_semantics.semantics.Root, None, None, None, None, None, None],\n",
       "  ['$[*]', dict, None, None, None, None, None, None],\n",
       "  ['$[*].type', str, None, None, None, None, None, None],\n",
       "  ['$[*].url', str, None, None, None, None, None, None],\n",
       "  ['$[*].user', str, None, None, None, None, None, None],\n",
       "  ['$[*].repository', str, None, None, None, None, None, None],\n",
       "  ['$[*].title', str, None, None, None, None, None, None],\n",
       "  ['$[*].body', str, None, None, None, None, None, None],\n",
       "  ['$[*].base', dict, None, None, None, None, None, None],\n",
       "  ['$[*].base.ref', str, None, None, None, None, None, None],\n",
       "  ['$[*].base.sha', str, None, None, None, None, None, None],\n",
       "  ['$[*].base.user', str, None, None, None, None, None, None],\n",
       "  ['$[*].base.repo', str, None, None, None, None, None, None],\n",
       "  ['$[*].head', dict, None, None, None, None, None, None],\n",
       "  ['$[*].head.ref', str, None, None, None, None, None, None],\n",
       "  ['$[*].head.sha', str, None, None, None, None, None, None],\n",
       "  ['$[*].head.user', str, None, None, None, None, None, None],\n",
       "  ['$[*].head.repo', str, None, None, None, None, None, None],\n",
       "  ['$[*].assignee', NoneType, None, None, None, None, None, None],\n",
       "  ['$[*].assignees', list, None, None, None, None, None, None],\n",
       "  ['$[*].milestone', NoneType, None, None, None, None, None, None],\n",
       "  ['$[*].labels', list, None, None, None, None, None, None],\n",
       "  ['$[*].reactions', list, None, None, None, None, None, None],\n",
       "  ['$[*].review_requests', list, None, None, None, None, None, None],\n",
       "  ['$[*].close_issue_references', list, None, None, None, None, None, None],\n",
       "  ['$[*].work_in_progress', bool, None, None, None, None, None, None],\n",
       "  ['$[*].merged_at', NoneType, None, None, None, None, None, None],\n",
       "  ['$[*].closed_at', NoneType, None, None, None, None, None, None],\n",
       "  ['$[*].created_at', str, None, None, None, None, None, None],\n",
       "  ['$[*].merge_commit_sha', str, None, None, None, None, None, None]]]"
      ]
     },
     "execution_count": 11,
     "metadata": {},
     "output_type": "execute_result"
    }
   ],
   "source": [
    "model.to_list()"
   ]
  },
  {
   "cell_type": "markdown",
   "id": "dbda5660",
   "metadata": {},
   "source": [
    "### It's a bit empty for now... Let's add some info."
   ]
  },
  {
   "cell_type": "code",
   "execution_count": 12,
   "id": "9e758792",
   "metadata": {},
   "outputs": [
    {
     "data": {
      "text/plain": [
       "{'path': '$[*].url',\n",
       " 'foundType': str,\n",
       " 'descriptiveType': None,\n",
       " 'unique': None,\n",
       " 'default': None,\n",
       " 'description': None,\n",
       " 'example': None,\n",
       " 'regex': None,\n",
       " 'traversal': {}}"
      ]
     },
     "execution_count": 12,
     "metadata": {},
     "output_type": "execute_result"
    }
   ],
   "source": [
    "chosen_path = \"$[*].url\"\n",
    "model.find_info(chosen_path)"
   ]
  },
  {
   "cell_type": "code",
   "execution_count": 13,
   "id": "20240911",
   "metadata": {},
   "outputs": [],
   "source": [
    "model.set_attribute(\n",
    "    chosen_path,\n",
    "    descriptiveType=\"https://schema.org/url\",\n",
    "    unique=False,\n",
    "    description=\"URL to that pull request\",\n",
    "    example=\"https://github.com/JeanMichel/infovisu17/pull/1\",\n",
    "    regex=\"^https:\\/\\/github\\.com\\/\\w+\\/\\w+\\/pull\\/\\d+$\"\n",
    ")"
   ]
  },
  {
   "cell_type": "code",
   "execution_count": 14,
   "id": "5f845a59",
   "metadata": {},
   "outputs": [
    {
     "data": {
      "text/plain": [
       "{'path': '$[*].url',\n",
       " 'foundType': str,\n",
       " 'descriptiveType': 'https://schema.org/url',\n",
       " 'unique': False,\n",
       " 'default': None,\n",
       " 'description': 'URL to that pull request',\n",
       " 'example': 'https://github.com/JeanMichel/infovisu17/pull/1',\n",
       " 'regex': '^https:\\\\/\\\\/github\\\\.com\\\\/\\\\w+\\\\/\\\\w+\\\\/pull\\\\/\\\\d+$',\n",
       " 'traversal': {}}"
      ]
     },
     "execution_count": 14,
     "metadata": {},
     "output_type": "execute_result"
    }
   ],
   "source": [
    "model.find_info(chosen_path)"
   ]
  },
  {
   "cell_type": "code",
   "execution_count": 15,
   "id": "74df8c7c",
   "metadata": {},
   "outputs": [
    {
     "data": {
      "text/plain": [
       "[['path',\n",
       "  'foundType',\n",
       "  'descriptiveType',\n",
       "  'unique',\n",
       "  'default',\n",
       "  'description',\n",
       "  'example',\n",
       "  'regex'],\n",
       " [['$', json_ld_semantics.semantics.Root, None, None, None, None, None, None],\n",
       "  ['$[*]', dict, None, None, None, None, None, None],\n",
       "  ['$[*].type', str, None, None, None, None, None, None],\n",
       "  ['$[*].url',\n",
       "   str,\n",
       "   'https://schema.org/url',\n",
       "   False,\n",
       "   None,\n",
       "   'URL to that pull request',\n",
       "   'https://github.com/JeanMichel/infovisu17/pull/1',\n",
       "   '^https:\\\\/\\\\/github\\\\.com\\\\/\\\\w+\\\\/\\\\w+\\\\/pull\\\\/\\\\d+$'],\n",
       "  ['$[*].user', str, None, None, None, None, None, None],\n",
       "  ['$[*].repository', str, None, None, None, None, None, None],\n",
       "  ['$[*].title', str, None, None, None, None, None, None],\n",
       "  ['$[*].body', str, None, None, None, None, None, None],\n",
       "  ['$[*].base', dict, None, None, None, None, None, None],\n",
       "  ['$[*].base.ref', str, None, None, None, None, None, None],\n",
       "  ['$[*].base.sha', str, None, None, None, None, None, None],\n",
       "  ['$[*].base.user', str, None, None, None, None, None, None],\n",
       "  ['$[*].base.repo', str, None, None, None, None, None, None],\n",
       "  ['$[*].head', dict, None, None, None, None, None, None],\n",
       "  ['$[*].head.ref', str, None, None, None, None, None, None],\n",
       "  ['$[*].head.sha', str, None, None, None, None, None, None],\n",
       "  ['$[*].head.user', str, None, None, None, None, None, None],\n",
       "  ['$[*].head.repo', str, None, None, None, None, None, None],\n",
       "  ['$[*].assignee', NoneType, None, None, None, None, None, None],\n",
       "  ['$[*].assignees', list, None, None, None, None, None, None],\n",
       "  ['$[*].milestone', NoneType, None, None, None, None, None, None],\n",
       "  ['$[*].labels', list, None, None, None, None, None, None],\n",
       "  ['$[*].reactions', list, None, None, None, None, None, None],\n",
       "  ['$[*].review_requests', list, None, None, None, None, None, None],\n",
       "  ['$[*].close_issue_references', list, None, None, None, None, None, None],\n",
       "  ['$[*].work_in_progress', bool, None, None, None, None, None, None],\n",
       "  ['$[*].merged_at', NoneType, None, None, None, None, None, None],\n",
       "  ['$[*].closed_at', NoneType, None, None, None, None, None, None],\n",
       "  ['$[*].created_at', str, None, None, None, None, None, None],\n",
       "  ['$[*].merge_commit_sha', str, None, None, None, None, None, None]]]"
      ]
     },
     "execution_count": 15,
     "metadata": {},
     "output_type": "execute_result"
    }
   ],
   "source": [
    "model.to_list()"
   ]
  }
 ],
 "metadata": {
  "kernelspec": {
   "display_name": "Python 3",
   "language": "python",
   "name": "python3"
  },
  "language_info": {
   "codemirror_mode": {
    "name": "ipython",
    "version": 3
   },
   "file_extension": ".py",
   "mimetype": "text/x-python",
   "name": "python",
   "nbconvert_exporter": "python",
   "pygments_lexer": "ipython3",
   "version": "3.7.3"
  }
 },
 "nbformat": 4,
 "nbformat_minor": 5
}
